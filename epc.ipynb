{
 "cells": [
  {
   "cell_type": "markdown",
   "metadata": {},
   "source": [
    "# Входное тестирование"
   ]
  },
  {
   "cell_type": "markdown",
   "metadata": {},
   "source": [
    "## Описание данных\n",
    "\n",
    "    Вам представлены данные о доходах сотрудников участка горячего проката за год, в том числе данные, описывающие специфику рабочих мест.\n",
    "    Доход состоит из оклада, премии, доплат и индивидуальных надбавок. Данных об их размерах не приводится, так как именно их Вам предстоит восстановить.\n",
    "\n"
   ]
  },
  {
   "cell_type": "markdown",
   "metadata": {},
   "source": [
    "## Задание\n",
    "\n",
    "    Выявите формулу дохода в целом и его составных частей\n",
    "    Проверьте, что данная формула объясняет доход с точностью до рубля\n",
    "    Выявите зависимости между составными частями дохода\n",
    "\n"
   ]
  },
  {
   "cell_type": "markdown",
   "metadata": {},
   "source": [
    "### Итоговую формулу напишите, пожалуйста, в теле письма или в Word. Все расчеты и объяснения приложите отдельным файлом."
   ]
  },
  {
   "cell_type": "markdown",
   "metadata": {},
   "source": [
    "Подключение библиотек и скриптов"
   ]
  },
  {
   "cell_type": "code",
   "execution_count": 1,
   "metadata": {},
   "outputs": [],
   "source": [
    "import numpy as np\n",
    "import pandas as pd\n",
    "import matplotlib.pyplot as plt"
   ]
  },
  {
   "cell_type": "markdown",
   "metadata": {},
   "source": [
    "Загрузка файла"
   ]
  },
  {
   "cell_type": "code",
   "execution_count": 2,
   "metadata": {},
   "outputs": [],
   "source": [
    "file = 'epc.csv'"
   ]
  },
  {
   "cell_type": "markdown",
   "metadata": {},
   "source": [
    "Первичный анализ данных"
   ]
  },
  {
   "cell_type": "code",
   "execution_count": 3,
   "metadata": {},
   "outputs": [
    {
     "data": {
      "text/html": [
       "<div>\n",
       "<style scoped>\n",
       "    .dataframe tbody tr th:only-of-type {\n",
       "        vertical-align: middle;\n",
       "    }\n",
       "\n",
       "    .dataframe tbody tr th {\n",
       "        vertical-align: top;\n",
       "    }\n",
       "\n",
       "    .dataframe thead th {\n",
       "        text-align: right;\n",
       "    }\n",
       "</style>\n",
       "<table border=\"1\" class=\"dataframe\">\n",
       "  <thead>\n",
       "    <tr style=\"text-align: right;\">\n",
       "      <th></th>\n",
       "      <th>FIO</th>\n",
       "      <th>Месяц</th>\n",
       "      <th>Профессия</th>\n",
       "      <th>Разряд</th>\n",
       "      <th>Оборудование</th>\n",
       "      <th>Вредность (балл.)</th>\n",
       "      <th>Объем производства</th>\n",
       "      <th>Доход</th>\n",
       "    </tr>\n",
       "  </thead>\n",
       "  <tbody>\n",
       "    <tr>\n",
       "      <th>0</th>\n",
       "      <td>Абрамов Е. Д.</td>\n",
       "      <td>January 2009</td>\n",
       "      <td>Уборщик</td>\n",
       "      <td>3</td>\n",
       "      <td>Пилигримовые станы</td>\n",
       "      <td>18</td>\n",
       "      <td>580</td>\n",
       "      <td>16,638</td>\n",
       "    </tr>\n",
       "    <tr>\n",
       "      <th>1</th>\n",
       "      <td>Абрамов Е. Д.</td>\n",
       "      <td>February 2009</td>\n",
       "      <td>Уборщик</td>\n",
       "      <td>3</td>\n",
       "      <td>Пилигримовые станы</td>\n",
       "      <td>18</td>\n",
       "      <td>790</td>\n",
       "      <td>16,638</td>\n",
       "    </tr>\n",
       "    <tr>\n",
       "      <th>2</th>\n",
       "      <td>Абрамов Е. Д.</td>\n",
       "      <td>March 2009</td>\n",
       "      <td>Уборщик</td>\n",
       "      <td>3</td>\n",
       "      <td>Пилигримовые станы</td>\n",
       "      <td>18</td>\n",
       "      <td>820</td>\n",
       "      <td>16,638</td>\n",
       "    </tr>\n",
       "    <tr>\n",
       "      <th>3</th>\n",
       "      <td>Абрамов Е. Д.</td>\n",
       "      <td>April 2009</td>\n",
       "      <td>Уборщик</td>\n",
       "      <td>3</td>\n",
       "      <td>Пилигримовые станы</td>\n",
       "      <td>18</td>\n",
       "      <td>1200</td>\n",
       "      <td>19,396</td>\n",
       "    </tr>\n",
       "    <tr>\n",
       "      <th>4</th>\n",
       "      <td>Абрамов Е. Д.</td>\n",
       "      <td>May 2009</td>\n",
       "      <td>Уборщик</td>\n",
       "      <td>3</td>\n",
       "      <td>Пилигримовые станы</td>\n",
       "      <td>18</td>\n",
       "      <td>1250</td>\n",
       "      <td>19,790</td>\n",
       "    </tr>\n",
       "  </tbody>\n",
       "</table>\n",
       "</div>"
      ],
      "text/plain": [
       "             FIO          Месяц Профессия  Разряд        Оборудование  \\\n",
       "0  Абрамов Е. Д.   January 2009   Уборщик       3  Пилигримовые станы   \n",
       "1  Абрамов Е. Д.  February 2009   Уборщик       3  Пилигримовые станы   \n",
       "2  Абрамов Е. Д.     March 2009   Уборщик       3  Пилигримовые станы   \n",
       "3  Абрамов Е. Д.     April 2009   Уборщик       3  Пилигримовые станы   \n",
       "4  Абрамов Е. Д.       May 2009   Уборщик       3  Пилигримовые станы   \n",
       "\n",
       "   Вредность (балл.)  Объем производства      Доход  \n",
       "0                 18                 580    16,638   \n",
       "1                 18                 790    16,638   \n",
       "2                 18                 820    16,638   \n",
       "3                 18                1200    19,396   \n",
       "4                 18                1250    19,790   "
      ]
     },
     "execution_count": 3,
     "metadata": {},
     "output_type": "execute_result"
    }
   ],
   "source": [
    "df = pd.read_csv(file, sep=',')\n",
    "df.head()"
   ]
  },
  {
   "cell_type": "code",
   "execution_count": 4,
   "metadata": {
    "scrolled": true
   },
   "outputs": [
    {
     "data": {
      "text/plain": [
       "FIO                   object\n",
       "Месяц                 object\n",
       "Профессия             object\n",
       "Разряд                 int64\n",
       "Оборудование          object\n",
       "Вредность (балл.)      int64\n",
       "Объем производства     int64\n",
       "Доход                 object\n",
       "dtype: object"
      ]
     },
     "execution_count": 4,
     "metadata": {},
     "output_type": "execute_result"
    }
   ],
   "source": [
    "df.dtypes"
   ]
  },
  {
   "cell_type": "markdown",
   "metadata": {},
   "source": [
    "Количество строк в датасете:"
   ]
  },
  {
   "cell_type": "code",
   "execution_count": 5,
   "metadata": {
    "scrolled": true
   },
   "outputs": [
    {
     "name": "stdout",
     "output_type": "stream",
     "text": [
      "Строк в трейне: 2400\n"
     ]
    }
   ],
   "source": [
    "print('Строк в трейне:', df.shape[0])"
   ]
  },
  {
   "cell_type": "markdown",
   "metadata": {},
   "source": [
    "Количественные переменные"
   ]
  },
  {
   "cell_type": "code",
   "execution_count": 6,
   "metadata": {},
   "outputs": [
    {
     "data": {
      "text/html": [
       "<div>\n",
       "<style scoped>\n",
       "    .dataframe tbody tr th:only-of-type {\n",
       "        vertical-align: middle;\n",
       "    }\n",
       "\n",
       "    .dataframe tbody tr th {\n",
       "        vertical-align: top;\n",
       "    }\n",
       "\n",
       "    .dataframe thead th {\n",
       "        text-align: right;\n",
       "    }\n",
       "</style>\n",
       "<table border=\"1\" class=\"dataframe\">\n",
       "  <thead>\n",
       "    <tr style=\"text-align: right;\">\n",
       "      <th></th>\n",
       "      <th>Разряд</th>\n",
       "      <th>Вредность (балл.)</th>\n",
       "      <th>Объем производства</th>\n",
       "    </tr>\n",
       "  </thead>\n",
       "  <tbody>\n",
       "    <tr>\n",
       "      <th>count</th>\n",
       "      <td>2400.000000</td>\n",
       "      <td>2400.000000</td>\n",
       "      <td>2400.000000</td>\n",
       "    </tr>\n",
       "    <tr>\n",
       "      <th>mean</th>\n",
       "      <td>4.900000</td>\n",
       "      <td>15.785000</td>\n",
       "      <td>988.333333</td>\n",
       "    </tr>\n",
       "    <tr>\n",
       "      <th>std</th>\n",
       "      <td>1.371417</td>\n",
       "      <td>6.567857</td>\n",
       "      <td>230.982220</td>\n",
       "    </tr>\n",
       "    <tr>\n",
       "      <th>min</th>\n",
       "      <td>3.000000</td>\n",
       "      <td>0.000000</td>\n",
       "      <td>580.000000</td>\n",
       "    </tr>\n",
       "    <tr>\n",
       "      <th>25%</th>\n",
       "      <td>4.000000</td>\n",
       "      <td>14.750000</td>\n",
       "      <td>805.000000</td>\n",
       "    </tr>\n",
       "    <tr>\n",
       "      <th>50%</th>\n",
       "      <td>5.000000</td>\n",
       "      <td>18.000000</td>\n",
       "      <td>985.000000</td>\n",
       "    </tr>\n",
       "    <tr>\n",
       "      <th>75%</th>\n",
       "      <td>6.000000</td>\n",
       "      <td>19.000000</td>\n",
       "      <td>1185.000000</td>\n",
       "    </tr>\n",
       "    <tr>\n",
       "      <th>max</th>\n",
       "      <td>7.000000</td>\n",
       "      <td>22.000000</td>\n",
       "      <td>1400.000000</td>\n",
       "    </tr>\n",
       "  </tbody>\n",
       "</table>\n",
       "</div>"
      ],
      "text/plain": [
       "            Разряд  Вредность (балл.)  Объем производства\n",
       "count  2400.000000        2400.000000         2400.000000\n",
       "mean      4.900000          15.785000          988.333333\n",
       "std       1.371417           6.567857          230.982220\n",
       "min       3.000000           0.000000          580.000000\n",
       "25%       4.000000          14.750000          805.000000\n",
       "50%       5.000000          18.000000          985.000000\n",
       "75%       6.000000          19.000000         1185.000000\n",
       "max       7.000000          22.000000         1400.000000"
      ]
     },
     "execution_count": 6,
     "metadata": {},
     "output_type": "execute_result"
    }
   ],
   "source": [
    "df.describe()"
   ]
  },
  {
   "cell_type": "code",
   "execution_count": 7,
   "metadata": {},
   "outputs": [
    {
     "name": "stdout",
     "output_type": "stream",
     "text": [
      "<class 'pandas.core.frame.DataFrame'>\n",
      "RangeIndex: 2400 entries, 0 to 2399\n",
      "Data columns (total 8 columns):\n",
      " #   Column              Non-Null Count  Dtype \n",
      "---  ------              --------------  ----- \n",
      " 0   FIO                 2400 non-null   object\n",
      " 1   Месяц               2400 non-null   object\n",
      " 2   Профессия           2400 non-null   object\n",
      " 3   Разряд              2400 non-null   int64 \n",
      " 4   Оборудование        2400 non-null   object\n",
      " 5   Вредность (балл.)   2400 non-null   int64 \n",
      " 6   Объем производства  2400 non-null   int64 \n",
      " 7   Доход               2400 non-null   object\n",
      "dtypes: int64(3), object(5)\n",
      "memory usage: 150.1+ KB\n"
     ]
    }
   ],
   "source": [
    "df.info()"
   ]
  },
  {
   "cell_type": "markdown",
   "metadata": {},
   "source": [
    "Номинативные переменные"
   ]
  },
  {
   "cell_type": "code",
   "execution_count": 8,
   "metadata": {},
   "outputs": [
    {
     "data": {
      "text/plain": [
       "['FIO', 'Месяц', 'Профессия', 'Оборудование', 'Доход']"
      ]
     },
     "execution_count": 8,
     "metadata": {},
     "output_type": "execute_result"
    }
   ],
   "source": [
    "df.select_dtypes(include=['category','object']).columns.tolist()"
   ]
  },
  {
   "cell_type": "code",
   "execution_count": 9,
   "metadata": {},
   "outputs": [
    {
     "data": {
      "text/plain": [
       "Суворов И. Р.     12\n",
       "Петров А. Е.      12\n",
       "Белкин Г. В.      12\n",
       "Осипов П. В.      12\n",
       "Новиков С. М.     12\n",
       "                  ..\n",
       "Соловьев И. М.    12\n",
       "Потапов М. И.     12\n",
       "Щербаков А. М.    12\n",
       "Карпов А. М.      12\n",
       "Васильев С. В.    12\n",
       "Name: FIO, Length: 200, dtype: int64"
      ]
     },
     "execution_count": 9,
     "metadata": {},
     "output_type": "execute_result"
    }
   ],
   "source": [
    "df['FIO'].value_counts()"
   ]
  },
  {
   "cell_type": "code",
   "execution_count": 10,
   "metadata": {},
   "outputs": [
    {
     "data": {
      "text/plain": [
       "July 2009         200\n",
       "January 2009      200\n",
       "December 2009     200\n",
       "September 2009    200\n",
       "April 2009        200\n",
       "March 2009        200\n",
       "November 2009     200\n",
       "August 2009       200\n",
       "February 2009     200\n",
       "October 2009      200\n",
       "May 2009          200\n",
       "June 2009         200\n",
       "Name: Месяц, dtype: int64"
      ]
     },
     "execution_count": 10,
     "metadata": {},
     "output_type": "execute_result"
    }
   ],
   "source": [
    "df['Месяц'].value_counts()"
   ]
  },
  {
   "cell_type": "code",
   "execution_count": 11,
   "metadata": {},
   "outputs": [
    {
     "data": {
      "text/plain": [
       "Вальцовщик                              612\n",
       "Нагревальщик металла                    504\n",
       "Подручный вальцовщика                   360\n",
       "Оператор поста управления               324\n",
       "Уборщик                                 252\n",
       "Контролер качества готовой продукции    108\n",
       "Посадчик металла                         96\n",
       "Резчик горячего металла                  84\n",
       "Огнеупорщик                              60\n",
       "Name: Профессия, dtype: int64"
      ]
     },
     "execution_count": 11,
     "metadata": {},
     "output_type": "execute_result"
    }
   ],
   "source": [
    "df['Профессия'].value_counts()"
   ]
  },
  {
   "cell_type": "code",
   "execution_count": 12,
   "metadata": {},
   "outputs": [
    {
     "data": {
      "text/plain": [
       "Пилигримовые станы                     708\n",
       "Нагревательные печи                    456\n",
       "Калибровочный стан                     372\n",
       "Прошивной стан                         372\n",
       "Вспомогательные помещения              108\n",
       "Нагревательные печи, нагрев            108\n",
       "Контрольно-измерительная аппаратура    108\n",
       "Нагревательные печи, кантовка           96\n",
       "Калибровочный стан, ГРП                 72\n",
       "Name: Оборудование, dtype: int64"
      ]
     },
     "execution_count": 12,
     "metadata": {},
     "output_type": "execute_result"
    }
   ],
   "source": [
    "df['Оборудование'].value_counts()"
   ]
  },
  {
   "cell_type": "code",
   "execution_count": 13,
   "metadata": {},
   "outputs": [
    {
     "data": {
      "text/plain": [
       "  15,420     75\n",
       "  20,350     50\n",
       "  15,570     50\n",
       "  22,260     45\n",
       "  18,077     45\n",
       "             ..\n",
       "  16,156      1\n",
       "  27,549      1\n",
       "  19,077      1\n",
       "  19,871      1\n",
       "  15,211      1\n",
       "Name: Доход, Length: 316, dtype: int64"
      ]
     },
     "execution_count": 13,
     "metadata": {},
     "output_type": "execute_result"
    }
   ],
   "source": [
    "df['Доход'].value_counts()"
   ]
  },
  {
   "cell_type": "markdown",
   "metadata": {},
   "source": [
    "Обрабатываем номинативные переменные столбцов 'Профессия', 'Оборудование', как бинарные (дамми) переменные"
   ]
  },
  {
   "cell_type": "code",
   "execution_count": 14,
   "metadata": {},
   "outputs": [
    {
     "data": {
      "text/html": [
       "<div>\n",
       "<style scoped>\n",
       "    .dataframe tbody tr th:only-of-type {\n",
       "        vertical-align: middle;\n",
       "    }\n",
       "\n",
       "    .dataframe tbody tr th {\n",
       "        vertical-align: top;\n",
       "    }\n",
       "\n",
       "    .dataframe thead th {\n",
       "        text-align: right;\n",
       "    }\n",
       "</style>\n",
       "<table border=\"1\" class=\"dataframe\">\n",
       "  <thead>\n",
       "    <tr style=\"text-align: right;\">\n",
       "      <th></th>\n",
       "      <th>FIO</th>\n",
       "      <th>Месяц</th>\n",
       "      <th>Разряд</th>\n",
       "      <th>Оборудование</th>\n",
       "      <th>Вредность (балл.)</th>\n",
       "      <th>Объем производства</th>\n",
       "      <th>Доход</th>\n",
       "      <th>Профессия__Вальцовщик</th>\n",
       "      <th>Профессия__Контролер качества готовой продукции</th>\n",
       "      <th>Профессия__Нагревальщик металла</th>\n",
       "      <th>Профессия__Огнеупорщик</th>\n",
       "      <th>Профессия__Оператор поста управления</th>\n",
       "      <th>Профессия__Подручный вальцовщика</th>\n",
       "      <th>Профессия__Посадчик металла</th>\n",
       "      <th>Профессия__Резчик горячего металла</th>\n",
       "      <th>Профессия__Уборщик</th>\n",
       "    </tr>\n",
       "  </thead>\n",
       "  <tbody>\n",
       "    <tr>\n",
       "      <th>0</th>\n",
       "      <td>Абрамов Е. Д.</td>\n",
       "      <td>January 2009</td>\n",
       "      <td>3</td>\n",
       "      <td>Пилигримовые станы</td>\n",
       "      <td>18</td>\n",
       "      <td>580</td>\n",
       "      <td>16,638</td>\n",
       "      <td>0</td>\n",
       "      <td>0</td>\n",
       "      <td>0</td>\n",
       "      <td>0</td>\n",
       "      <td>0</td>\n",
       "      <td>0</td>\n",
       "      <td>0</td>\n",
       "      <td>0</td>\n",
       "      <td>1</td>\n",
       "    </tr>\n",
       "    <tr>\n",
       "      <th>1</th>\n",
       "      <td>Абрамов Е. Д.</td>\n",
       "      <td>February 2009</td>\n",
       "      <td>3</td>\n",
       "      <td>Пилигримовые станы</td>\n",
       "      <td>18</td>\n",
       "      <td>790</td>\n",
       "      <td>16,638</td>\n",
       "      <td>0</td>\n",
       "      <td>0</td>\n",
       "      <td>0</td>\n",
       "      <td>0</td>\n",
       "      <td>0</td>\n",
       "      <td>0</td>\n",
       "      <td>0</td>\n",
       "      <td>0</td>\n",
       "      <td>1</td>\n",
       "    </tr>\n",
       "    <tr>\n",
       "      <th>2</th>\n",
       "      <td>Абрамов Е. Д.</td>\n",
       "      <td>March 2009</td>\n",
       "      <td>3</td>\n",
       "      <td>Пилигримовые станы</td>\n",
       "      <td>18</td>\n",
       "      <td>820</td>\n",
       "      <td>16,638</td>\n",
       "      <td>0</td>\n",
       "      <td>0</td>\n",
       "      <td>0</td>\n",
       "      <td>0</td>\n",
       "      <td>0</td>\n",
       "      <td>0</td>\n",
       "      <td>0</td>\n",
       "      <td>0</td>\n",
       "      <td>1</td>\n",
       "    </tr>\n",
       "  </tbody>\n",
       "</table>\n",
       "</div>"
      ],
      "text/plain": [
       "             FIO          Месяц  Разряд        Оборудование  \\\n",
       "0  Абрамов Е. Д.   January 2009       3  Пилигримовые станы   \n",
       "1  Абрамов Е. Д.  February 2009       3  Пилигримовые станы   \n",
       "2  Абрамов Е. Д.     March 2009       3  Пилигримовые станы   \n",
       "\n",
       "   Вредность (балл.)  Объем производства      Доход  Профессия__Вальцовщик  \\\n",
       "0                 18                 580    16,638                       0   \n",
       "1                 18                 790    16,638                       0   \n",
       "2                 18                 820    16,638                       0   \n",
       "\n",
       "   Профессия__Контролер качества готовой продукции  \\\n",
       "0                                                0   \n",
       "1                                                0   \n",
       "2                                                0   \n",
       "\n",
       "   Профессия__Нагревальщик металла  Профессия__Огнеупорщик  \\\n",
       "0                                0                       0   \n",
       "1                                0                       0   \n",
       "2                                0                       0   \n",
       "\n",
       "   Профессия__Оператор поста управления  Профессия__Подручный вальцовщика  \\\n",
       "0                                     0                                 0   \n",
       "1                                     0                                 0   \n",
       "2                                     0                                 0   \n",
       "\n",
       "   Профессия__Посадчик металла  Профессия__Резчик горячего металла  \\\n",
       "0                            0                                   0   \n",
       "1                            0                                   0   \n",
       "2                            0                                   0   \n",
       "\n",
       "   Профессия__Уборщик  \n",
       "0                   1  \n",
       "1                   1  \n",
       "2                   1  "
      ]
     },
     "execution_count": 14,
     "metadata": {},
     "output_type": "execute_result"
    }
   ],
   "source": [
    "df = pd.concat([df, pd.get_dummies(df.Профессия, prefix='Профессия_')], axis=1, sort=False)  \n",
    "df = df.drop(['Профессия'], axis=1)\n",
    "df.head(3)"
   ]
  },
  {
   "cell_type": "code",
   "execution_count": 15,
   "metadata": {},
   "outputs": [
    {
     "data": {
      "text/html": [
       "<div>\n",
       "<style scoped>\n",
       "    .dataframe tbody tr th:only-of-type {\n",
       "        vertical-align: middle;\n",
       "    }\n",
       "\n",
       "    .dataframe tbody tr th {\n",
       "        vertical-align: top;\n",
       "    }\n",
       "\n",
       "    .dataframe thead th {\n",
       "        text-align: right;\n",
       "    }\n",
       "</style>\n",
       "<table border=\"1\" class=\"dataframe\">\n",
       "  <thead>\n",
       "    <tr style=\"text-align: right;\">\n",
       "      <th></th>\n",
       "      <th>FIO</th>\n",
       "      <th>Месяц</th>\n",
       "      <th>Разряд</th>\n",
       "      <th>Вредность (балл.)</th>\n",
       "      <th>Объем производства</th>\n",
       "      <th>Доход</th>\n",
       "      <th>Профессия__Вальцовщик</th>\n",
       "      <th>Профессия__Контролер качества готовой продукции</th>\n",
       "      <th>Профессия__Нагревальщик металла</th>\n",
       "      <th>Профессия__Огнеупорщик</th>\n",
       "      <th>...</th>\n",
       "      <th>Профессия__Уборщик</th>\n",
       "      <th>Оборудование__Вспомогательные помещения</th>\n",
       "      <th>Оборудование__Калибровочный стан</th>\n",
       "      <th>Оборудование__Калибровочный стан, ГРП</th>\n",
       "      <th>Оборудование__Контрольно-измерительная аппаратура</th>\n",
       "      <th>Оборудование__Нагревательные печи</th>\n",
       "      <th>Оборудование__Нагревательные печи, кантовка</th>\n",
       "      <th>Оборудование__Нагревательные печи, нагрев</th>\n",
       "      <th>Оборудование__Пилигримовые станы</th>\n",
       "      <th>Оборудование__Прошивной стан</th>\n",
       "    </tr>\n",
       "  </thead>\n",
       "  <tbody>\n",
       "    <tr>\n",
       "      <th>0</th>\n",
       "      <td>Абрамов Е. Д.</td>\n",
       "      <td>January 2009</td>\n",
       "      <td>3</td>\n",
       "      <td>18</td>\n",
       "      <td>580</td>\n",
       "      <td>16,638</td>\n",
       "      <td>0</td>\n",
       "      <td>0</td>\n",
       "      <td>0</td>\n",
       "      <td>0</td>\n",
       "      <td>...</td>\n",
       "      <td>1</td>\n",
       "      <td>0</td>\n",
       "      <td>0</td>\n",
       "      <td>0</td>\n",
       "      <td>0</td>\n",
       "      <td>0</td>\n",
       "      <td>0</td>\n",
       "      <td>0</td>\n",
       "      <td>1</td>\n",
       "      <td>0</td>\n",
       "    </tr>\n",
       "    <tr>\n",
       "      <th>1</th>\n",
       "      <td>Абрамов Е. Д.</td>\n",
       "      <td>February 2009</td>\n",
       "      <td>3</td>\n",
       "      <td>18</td>\n",
       "      <td>790</td>\n",
       "      <td>16,638</td>\n",
       "      <td>0</td>\n",
       "      <td>0</td>\n",
       "      <td>0</td>\n",
       "      <td>0</td>\n",
       "      <td>...</td>\n",
       "      <td>1</td>\n",
       "      <td>0</td>\n",
       "      <td>0</td>\n",
       "      <td>0</td>\n",
       "      <td>0</td>\n",
       "      <td>0</td>\n",
       "      <td>0</td>\n",
       "      <td>0</td>\n",
       "      <td>1</td>\n",
       "      <td>0</td>\n",
       "    </tr>\n",
       "    <tr>\n",
       "      <th>2</th>\n",
       "      <td>Абрамов Е. Д.</td>\n",
       "      <td>March 2009</td>\n",
       "      <td>3</td>\n",
       "      <td>18</td>\n",
       "      <td>820</td>\n",
       "      <td>16,638</td>\n",
       "      <td>0</td>\n",
       "      <td>0</td>\n",
       "      <td>0</td>\n",
       "      <td>0</td>\n",
       "      <td>...</td>\n",
       "      <td>1</td>\n",
       "      <td>0</td>\n",
       "      <td>0</td>\n",
       "      <td>0</td>\n",
       "      <td>0</td>\n",
       "      <td>0</td>\n",
       "      <td>0</td>\n",
       "      <td>0</td>\n",
       "      <td>1</td>\n",
       "      <td>0</td>\n",
       "    </tr>\n",
       "  </tbody>\n",
       "</table>\n",
       "<p>3 rows × 24 columns</p>\n",
       "</div>"
      ],
      "text/plain": [
       "             FIO          Месяц  Разряд  Вредность (балл.)  \\\n",
       "0  Абрамов Е. Д.   January 2009       3                 18   \n",
       "1  Абрамов Е. Д.  February 2009       3                 18   \n",
       "2  Абрамов Е. Д.     March 2009       3                 18   \n",
       "\n",
       "   Объем производства      Доход  Профессия__Вальцовщик  \\\n",
       "0                 580    16,638                       0   \n",
       "1                 790    16,638                       0   \n",
       "2                 820    16,638                       0   \n",
       "\n",
       "   Профессия__Контролер качества готовой продукции  \\\n",
       "0                                                0   \n",
       "1                                                0   \n",
       "2                                                0   \n",
       "\n",
       "   Профессия__Нагревальщик металла  Профессия__Огнеупорщик  ...  \\\n",
       "0                                0                       0  ...   \n",
       "1                                0                       0  ...   \n",
       "2                                0                       0  ...   \n",
       "\n",
       "   Профессия__Уборщик  Оборудование__Вспомогательные помещения  \\\n",
       "0                   1                                        0   \n",
       "1                   1                                        0   \n",
       "2                   1                                        0   \n",
       "\n",
       "   Оборудование__Калибровочный стан  Оборудование__Калибровочный стан, ГРП  \\\n",
       "0                                 0                                      0   \n",
       "1                                 0                                      0   \n",
       "2                                 0                                      0   \n",
       "\n",
       "   Оборудование__Контрольно-измерительная аппаратура  \\\n",
       "0                                                  0   \n",
       "1                                                  0   \n",
       "2                                                  0   \n",
       "\n",
       "   Оборудование__Нагревательные печи  \\\n",
       "0                                  0   \n",
       "1                                  0   \n",
       "2                                  0   \n",
       "\n",
       "   Оборудование__Нагревательные печи, кантовка  \\\n",
       "0                                            0   \n",
       "1                                            0   \n",
       "2                                            0   \n",
       "\n",
       "   Оборудование__Нагревательные печи, нагрев  \\\n",
       "0                                          0   \n",
       "1                                          0   \n",
       "2                                          0   \n",
       "\n",
       "   Оборудование__Пилигримовые станы  Оборудование__Прошивной стан  \n",
       "0                                 1                             0  \n",
       "1                                 1                             0  \n",
       "2                                 1                             0  \n",
       "\n",
       "[3 rows x 24 columns]"
      ]
     },
     "execution_count": 15,
     "metadata": {},
     "output_type": "execute_result"
    }
   ],
   "source": [
    "df = pd.concat([df, pd.get_dummies(df.Оборудование, prefix='Оборудование_')], axis=1, sort=False)  \n",
    "df = df.drop(['Оборудование'], axis=1)\n",
    "df.head(3)"
   ]
  },
  {
   "cell_type": "markdown",
   "metadata": {},
   "source": [
    "Поскольку данные показывают, что доход от количества дней в месяце не зависит, удаляем данный столбец из дальнейших \n",
    "расчетов"
   ]
  },
  {
   "cell_type": "code",
   "execution_count": 16,
   "metadata": {
    "scrolled": true
   },
   "outputs": [
    {
     "data": {
      "text/html": [
       "<div>\n",
       "<style scoped>\n",
       "    .dataframe tbody tr th:only-of-type {\n",
       "        vertical-align: middle;\n",
       "    }\n",
       "\n",
       "    .dataframe tbody tr th {\n",
       "        vertical-align: top;\n",
       "    }\n",
       "\n",
       "    .dataframe thead th {\n",
       "        text-align: right;\n",
       "    }\n",
       "</style>\n",
       "<table border=\"1\" class=\"dataframe\">\n",
       "  <thead>\n",
       "    <tr style=\"text-align: right;\">\n",
       "      <th></th>\n",
       "      <th>FIO</th>\n",
       "      <th>Разряд</th>\n",
       "      <th>Вредность (балл.)</th>\n",
       "      <th>Объем производства</th>\n",
       "      <th>Доход</th>\n",
       "      <th>Профессия__Вальцовщик</th>\n",
       "      <th>Профессия__Контролер качества готовой продукции</th>\n",
       "      <th>Профессия__Нагревальщик металла</th>\n",
       "      <th>Профессия__Огнеупорщик</th>\n",
       "      <th>Профессия__Оператор поста управления</th>\n",
       "      <th>...</th>\n",
       "      <th>Профессия__Уборщик</th>\n",
       "      <th>Оборудование__Вспомогательные помещения</th>\n",
       "      <th>Оборудование__Калибровочный стан</th>\n",
       "      <th>Оборудование__Калибровочный стан, ГРП</th>\n",
       "      <th>Оборудование__Контрольно-измерительная аппаратура</th>\n",
       "      <th>Оборудование__Нагревательные печи</th>\n",
       "      <th>Оборудование__Нагревательные печи, кантовка</th>\n",
       "      <th>Оборудование__Нагревательные печи, нагрев</th>\n",
       "      <th>Оборудование__Пилигримовые станы</th>\n",
       "      <th>Оборудование__Прошивной стан</th>\n",
       "    </tr>\n",
       "  </thead>\n",
       "  <tbody>\n",
       "    <tr>\n",
       "      <th>0</th>\n",
       "      <td>Абрамов Е. Д.</td>\n",
       "      <td>3</td>\n",
       "      <td>18</td>\n",
       "      <td>580</td>\n",
       "      <td>16,638</td>\n",
       "      <td>0</td>\n",
       "      <td>0</td>\n",
       "      <td>0</td>\n",
       "      <td>0</td>\n",
       "      <td>0</td>\n",
       "      <td>...</td>\n",
       "      <td>1</td>\n",
       "      <td>0</td>\n",
       "      <td>0</td>\n",
       "      <td>0</td>\n",
       "      <td>0</td>\n",
       "      <td>0</td>\n",
       "      <td>0</td>\n",
       "      <td>0</td>\n",
       "      <td>1</td>\n",
       "      <td>0</td>\n",
       "    </tr>\n",
       "    <tr>\n",
       "      <th>1</th>\n",
       "      <td>Абрамов Е. Д.</td>\n",
       "      <td>3</td>\n",
       "      <td>18</td>\n",
       "      <td>790</td>\n",
       "      <td>16,638</td>\n",
       "      <td>0</td>\n",
       "      <td>0</td>\n",
       "      <td>0</td>\n",
       "      <td>0</td>\n",
       "      <td>0</td>\n",
       "      <td>...</td>\n",
       "      <td>1</td>\n",
       "      <td>0</td>\n",
       "      <td>0</td>\n",
       "      <td>0</td>\n",
       "      <td>0</td>\n",
       "      <td>0</td>\n",
       "      <td>0</td>\n",
       "      <td>0</td>\n",
       "      <td>1</td>\n",
       "      <td>0</td>\n",
       "    </tr>\n",
       "    <tr>\n",
       "      <th>2</th>\n",
       "      <td>Абрамов Е. Д.</td>\n",
       "      <td>3</td>\n",
       "      <td>18</td>\n",
       "      <td>820</td>\n",
       "      <td>16,638</td>\n",
       "      <td>0</td>\n",
       "      <td>0</td>\n",
       "      <td>0</td>\n",
       "      <td>0</td>\n",
       "      <td>0</td>\n",
       "      <td>...</td>\n",
       "      <td>1</td>\n",
       "      <td>0</td>\n",
       "      <td>0</td>\n",
       "      <td>0</td>\n",
       "      <td>0</td>\n",
       "      <td>0</td>\n",
       "      <td>0</td>\n",
       "      <td>0</td>\n",
       "      <td>1</td>\n",
       "      <td>0</td>\n",
       "    </tr>\n",
       "  </tbody>\n",
       "</table>\n",
       "<p>3 rows × 23 columns</p>\n",
       "</div>"
      ],
      "text/plain": [
       "             FIO  Разряд  Вредность (балл.)  Объем производства      Доход  \\\n",
       "0  Абрамов Е. Д.       3                 18                 580    16,638    \n",
       "1  Абрамов Е. Д.       3                 18                 790    16,638    \n",
       "2  Абрамов Е. Д.       3                 18                 820    16,638    \n",
       "\n",
       "   Профессия__Вальцовщик  Профессия__Контролер качества готовой продукции  \\\n",
       "0                      0                                                0   \n",
       "1                      0                                                0   \n",
       "2                      0                                                0   \n",
       "\n",
       "   Профессия__Нагревальщик металла  Профессия__Огнеупорщик  \\\n",
       "0                                0                       0   \n",
       "1                                0                       0   \n",
       "2                                0                       0   \n",
       "\n",
       "   Профессия__Оператор поста управления  ...  Профессия__Уборщик  \\\n",
       "0                                     0  ...                   1   \n",
       "1                                     0  ...                   1   \n",
       "2                                     0  ...                   1   \n",
       "\n",
       "   Оборудование__Вспомогательные помещения  Оборудование__Калибровочный стан  \\\n",
       "0                                        0                                 0   \n",
       "1                                        0                                 0   \n",
       "2                                        0                                 0   \n",
       "\n",
       "   Оборудование__Калибровочный стан, ГРП  \\\n",
       "0                                      0   \n",
       "1                                      0   \n",
       "2                                      0   \n",
       "\n",
       "   Оборудование__Контрольно-измерительная аппаратура  \\\n",
       "0                                                  0   \n",
       "1                                                  0   \n",
       "2                                                  0   \n",
       "\n",
       "   Оборудование__Нагревательные печи  \\\n",
       "0                                  0   \n",
       "1                                  0   \n",
       "2                                  0   \n",
       "\n",
       "   Оборудование__Нагревательные печи, кантовка  \\\n",
       "0                                            0   \n",
       "1                                            0   \n",
       "2                                            0   \n",
       "\n",
       "   Оборудование__Нагревательные печи, нагрев  \\\n",
       "0                                          0   \n",
       "1                                          0   \n",
       "2                                          0   \n",
       "\n",
       "   Оборудование__Пилигримовые станы  Оборудование__Прошивной стан  \n",
       "0                                 1                             0  \n",
       "1                                 1                             0  \n",
       "2                                 1                             0  \n",
       "\n",
       "[3 rows x 23 columns]"
      ]
     },
     "execution_count": 16,
     "metadata": {},
     "output_type": "execute_result"
    }
   ],
   "source": [
    "df = df.drop(['Месяц'], axis=1)\n",
    "df.head(3)"
   ]
  },
  {
   "cell_type": "markdown",
   "metadata": {},
   "source": [
    "Преобразуем колонку 'Доход' в числовой формат"
   ]
  },
  {
   "cell_type": "code",
   "execution_count": 17,
   "metadata": {},
   "outputs": [],
   "source": [
    "df['Доход'] = df['Доход'].str.replace(',','').astype(int)"
   ]
  },
  {
   "cell_type": "code",
   "execution_count": 18,
   "metadata": {
    "scrolled": true
   },
   "outputs": [
    {
     "data": {
      "text/plain": [
       "15420    75\n",
       "20350    50\n",
       "15570    50\n",
       "26403    45\n",
       "18077    45\n",
       "         ..\n",
       "21180     1\n",
       "17689     1\n",
       "17733     1\n",
       "19077     1\n",
       "18437     1\n",
       "Name: Доход, Length: 316, dtype: int64"
      ]
     },
     "execution_count": 18,
     "metadata": {},
     "output_type": "execute_result"
    }
   ],
   "source": [
    "df['Доход'].value_counts()"
   ]
  },
  {
   "cell_type": "markdown",
   "metadata": {},
   "source": [
    "## Анализируя данные видим, что доход зависит от объема производства нелинейным характером, поэтому частично объединяем эту категорию, а также разбиваем как бинарные (дамми) переменные"
   ]
  },
  {
   "cell_type": "code",
   "execution_count": 19,
   "metadata": {},
   "outputs": [
    {
     "data": {
      "text/plain": [
       "1400    200\n",
       "1250    200\n",
       "1200    200\n",
       "1180    200\n",
       "1080    200\n",
       "1020    200\n",
       "950     200\n",
       "820     200\n",
       "810     200\n",
       "790     200\n",
       "780     200\n",
       "580     200\n",
       "Name: Объем производства, dtype: int64"
      ]
     },
     "execution_count": 19,
     "metadata": {},
     "output_type": "execute_result"
    }
   ],
   "source": [
    "df['Объем производства'].value_counts()"
   ]
  },
  {
   "cell_type": "code",
   "execution_count": 20,
   "metadata": {},
   "outputs": [],
   "source": [
    "df['Объем производства'] = df['Объем производства'].astype(str)"
   ]
  },
  {
   "cell_type": "code",
   "execution_count": 21,
   "metadata": {},
   "outputs": [],
   "source": [
    "df.rename(columns = {'Объем производства':'Объем_производства'}, inplace = True)"
   ]
  },
  {
   "cell_type": "code",
   "execution_count": 22,
   "metadata": {},
   "outputs": [
    {
     "data": {
      "text/html": [
       "<div>\n",
       "<style scoped>\n",
       "    .dataframe tbody tr th:only-of-type {\n",
       "        vertical-align: middle;\n",
       "    }\n",
       "\n",
       "    .dataframe tbody tr th {\n",
       "        vertical-align: top;\n",
       "    }\n",
       "\n",
       "    .dataframe thead th {\n",
       "        text-align: right;\n",
       "    }\n",
       "</style>\n",
       "<table border=\"1\" class=\"dataframe\">\n",
       "  <thead>\n",
       "    <tr style=\"text-align: right;\">\n",
       "      <th></th>\n",
       "      <th>FIO</th>\n",
       "      <th>Разряд</th>\n",
       "      <th>Вредность (балл.)</th>\n",
       "      <th>Объем_производства</th>\n",
       "      <th>Доход</th>\n",
       "      <th>Профессия__Вальцовщик</th>\n",
       "      <th>Профессия__Контролер качества готовой продукции</th>\n",
       "      <th>Профессия__Нагревальщик металла</th>\n",
       "      <th>Профессия__Огнеупорщик</th>\n",
       "      <th>Профессия__Оператор поста управления</th>\n",
       "      <th>...</th>\n",
       "      <th>Профессия__Уборщик</th>\n",
       "      <th>Оборудование__Вспомогательные помещения</th>\n",
       "      <th>Оборудование__Калибровочный стан</th>\n",
       "      <th>Оборудование__Калибровочный стан, ГРП</th>\n",
       "      <th>Оборудование__Контрольно-измерительная аппаратура</th>\n",
       "      <th>Оборудование__Нагревательные печи</th>\n",
       "      <th>Оборудование__Нагревательные печи, кантовка</th>\n",
       "      <th>Оборудование__Нагревательные печи, нагрев</th>\n",
       "      <th>Оборудование__Пилигримовые станы</th>\n",
       "      <th>Оборудование__Прошивной стан</th>\n",
       "    </tr>\n",
       "  </thead>\n",
       "  <tbody>\n",
       "    <tr>\n",
       "      <th>0</th>\n",
       "      <td>Абрамов Е. Д.</td>\n",
       "      <td>3</td>\n",
       "      <td>18</td>\n",
       "      <td>Basic</td>\n",
       "      <td>16638</td>\n",
       "      <td>0</td>\n",
       "      <td>0</td>\n",
       "      <td>0</td>\n",
       "      <td>0</td>\n",
       "      <td>0</td>\n",
       "      <td>...</td>\n",
       "      <td>1</td>\n",
       "      <td>0</td>\n",
       "      <td>0</td>\n",
       "      <td>0</td>\n",
       "      <td>0</td>\n",
       "      <td>0</td>\n",
       "      <td>0</td>\n",
       "      <td>0</td>\n",
       "      <td>1</td>\n",
       "      <td>0</td>\n",
       "    </tr>\n",
       "    <tr>\n",
       "      <th>1</th>\n",
       "      <td>Абрамов Е. Д.</td>\n",
       "      <td>3</td>\n",
       "      <td>18</td>\n",
       "      <td>Basic</td>\n",
       "      <td>16638</td>\n",
       "      <td>0</td>\n",
       "      <td>0</td>\n",
       "      <td>0</td>\n",
       "      <td>0</td>\n",
       "      <td>0</td>\n",
       "      <td>...</td>\n",
       "      <td>1</td>\n",
       "      <td>0</td>\n",
       "      <td>0</td>\n",
       "      <td>0</td>\n",
       "      <td>0</td>\n",
       "      <td>0</td>\n",
       "      <td>0</td>\n",
       "      <td>0</td>\n",
       "      <td>1</td>\n",
       "      <td>0</td>\n",
       "    </tr>\n",
       "    <tr>\n",
       "      <th>2</th>\n",
       "      <td>Абрамов Е. Д.</td>\n",
       "      <td>3</td>\n",
       "      <td>18</td>\n",
       "      <td>Basic</td>\n",
       "      <td>16638</td>\n",
       "      <td>0</td>\n",
       "      <td>0</td>\n",
       "      <td>0</td>\n",
       "      <td>0</td>\n",
       "      <td>0</td>\n",
       "      <td>...</td>\n",
       "      <td>1</td>\n",
       "      <td>0</td>\n",
       "      <td>0</td>\n",
       "      <td>0</td>\n",
       "      <td>0</td>\n",
       "      <td>0</td>\n",
       "      <td>0</td>\n",
       "      <td>0</td>\n",
       "      <td>1</td>\n",
       "      <td>0</td>\n",
       "    </tr>\n",
       "    <tr>\n",
       "      <th>3</th>\n",
       "      <td>Абрамов Е. Д.</td>\n",
       "      <td>3</td>\n",
       "      <td>18</td>\n",
       "      <td>Extra_5</td>\n",
       "      <td>19396</td>\n",
       "      <td>0</td>\n",
       "      <td>0</td>\n",
       "      <td>0</td>\n",
       "      <td>0</td>\n",
       "      <td>0</td>\n",
       "      <td>...</td>\n",
       "      <td>1</td>\n",
       "      <td>0</td>\n",
       "      <td>0</td>\n",
       "      <td>0</td>\n",
       "      <td>0</td>\n",
       "      <td>0</td>\n",
       "      <td>0</td>\n",
       "      <td>0</td>\n",
       "      <td>1</td>\n",
       "      <td>0</td>\n",
       "    </tr>\n",
       "    <tr>\n",
       "      <th>4</th>\n",
       "      <td>Абрамов Е. Д.</td>\n",
       "      <td>3</td>\n",
       "      <td>18</td>\n",
       "      <td>Extra_6</td>\n",
       "      <td>19790</td>\n",
       "      <td>0</td>\n",
       "      <td>0</td>\n",
       "      <td>0</td>\n",
       "      <td>0</td>\n",
       "      <td>0</td>\n",
       "      <td>...</td>\n",
       "      <td>1</td>\n",
       "      <td>0</td>\n",
       "      <td>0</td>\n",
       "      <td>0</td>\n",
       "      <td>0</td>\n",
       "      <td>0</td>\n",
       "      <td>0</td>\n",
       "      <td>0</td>\n",
       "      <td>1</td>\n",
       "      <td>0</td>\n",
       "    </tr>\n",
       "  </tbody>\n",
       "</table>\n",
       "<p>5 rows × 23 columns</p>\n",
       "</div>"
      ],
      "text/plain": [
       "             FIO  Разряд  Вредность (балл.) Объем_производства  Доход  \\\n",
       "0  Абрамов Е. Д.       3                 18              Basic  16638   \n",
       "1  Абрамов Е. Д.       3                 18              Basic  16638   \n",
       "2  Абрамов Е. Д.       3                 18              Basic  16638   \n",
       "3  Абрамов Е. Д.       3                 18            Extra_5  19396   \n",
       "4  Абрамов Е. Д.       3                 18            Extra_6  19790   \n",
       "\n",
       "   Профессия__Вальцовщик  Профессия__Контролер качества готовой продукции  \\\n",
       "0                      0                                                0   \n",
       "1                      0                                                0   \n",
       "2                      0                                                0   \n",
       "3                      0                                                0   \n",
       "4                      0                                                0   \n",
       "\n",
       "   Профессия__Нагревальщик металла  Профессия__Огнеупорщик  \\\n",
       "0                                0                       0   \n",
       "1                                0                       0   \n",
       "2                                0                       0   \n",
       "3                                0                       0   \n",
       "4                                0                       0   \n",
       "\n",
       "   Профессия__Оператор поста управления  ...  Профессия__Уборщик  \\\n",
       "0                                     0  ...                   1   \n",
       "1                                     0  ...                   1   \n",
       "2                                     0  ...                   1   \n",
       "3                                     0  ...                   1   \n",
       "4                                     0  ...                   1   \n",
       "\n",
       "   Оборудование__Вспомогательные помещения  Оборудование__Калибровочный стан  \\\n",
       "0                                        0                                 0   \n",
       "1                                        0                                 0   \n",
       "2                                        0                                 0   \n",
       "3                                        0                                 0   \n",
       "4                                        0                                 0   \n",
       "\n",
       "   Оборудование__Калибровочный стан, ГРП  \\\n",
       "0                                      0   \n",
       "1                                      0   \n",
       "2                                      0   \n",
       "3                                      0   \n",
       "4                                      0   \n",
       "\n",
       "   Оборудование__Контрольно-измерительная аппаратура  \\\n",
       "0                                                  0   \n",
       "1                                                  0   \n",
       "2                                                  0   \n",
       "3                                                  0   \n",
       "4                                                  0   \n",
       "\n",
       "   Оборудование__Нагревательные печи  \\\n",
       "0                                  0   \n",
       "1                                  0   \n",
       "2                                  0   \n",
       "3                                  0   \n",
       "4                                  0   \n",
       "\n",
       "   Оборудование__Нагревательные печи, кантовка  \\\n",
       "0                                            0   \n",
       "1                                            0   \n",
       "2                                            0   \n",
       "3                                            0   \n",
       "4                                            0   \n",
       "\n",
       "   Оборудование__Нагревательные печи, нагрев  \\\n",
       "0                                          0   \n",
       "1                                          0   \n",
       "2                                          0   \n",
       "3                                          0   \n",
       "4                                          0   \n",
       "\n",
       "   Оборудование__Пилигримовые станы  Оборудование__Прошивной стан  \n",
       "0                                 1                             0  \n",
       "1                                 1                             0  \n",
       "2                                 1                             0  \n",
       "3                                 1                             0  \n",
       "4                                 1                             0  \n",
       "\n",
       "[5 rows x 23 columns]"
      ]
     },
     "execution_count": 22,
     "metadata": {},
     "output_type": "execute_result"
    }
   ],
   "source": [
    "df['Объем_производства'] = df['Объем_производства'].map({'580': 'Basic', '780': 'Basic', '790': 'Basic', '810': 'Basic',\n",
    "                               '820': 'Basic', '950': 'Extra_1', '1020': 'Extra_2', '1080': 'Extra_3',\n",
    "                               '1180': 'Extra_4', '1200': 'Extra_5', '1250': 'Extra_6', '1400': 'Extra_7'})\n",
    "df.head()"
   ]
  },
  {
   "cell_type": "code",
   "execution_count": 23,
   "metadata": {},
   "outputs": [
    {
     "data": {
      "text/html": [
       "<div>\n",
       "<style scoped>\n",
       "    .dataframe tbody tr th:only-of-type {\n",
       "        vertical-align: middle;\n",
       "    }\n",
       "\n",
       "    .dataframe tbody tr th {\n",
       "        vertical-align: top;\n",
       "    }\n",
       "\n",
       "    .dataframe thead th {\n",
       "        text-align: right;\n",
       "    }\n",
       "</style>\n",
       "<table border=\"1\" class=\"dataframe\">\n",
       "  <thead>\n",
       "    <tr style=\"text-align: right;\">\n",
       "      <th></th>\n",
       "      <th>FIO</th>\n",
       "      <th>Разряд</th>\n",
       "      <th>Вредность (балл.)</th>\n",
       "      <th>Доход</th>\n",
       "      <th>Профессия__Вальцовщик</th>\n",
       "      <th>Профессия__Контролер качества готовой продукции</th>\n",
       "      <th>Профессия__Нагревальщик металла</th>\n",
       "      <th>Профессия__Огнеупорщик</th>\n",
       "      <th>Профессия__Оператор поста управления</th>\n",
       "      <th>Профессия__Подручный вальцовщика</th>\n",
       "      <th>...</th>\n",
       "      <th>Оборудование__Пилигримовые станы</th>\n",
       "      <th>Оборудование__Прошивной стан</th>\n",
       "      <th>Объем_производства__Basic</th>\n",
       "      <th>Объем_производства__Extra_1</th>\n",
       "      <th>Объем_производства__Extra_2</th>\n",
       "      <th>Объем_производства__Extra_3</th>\n",
       "      <th>Объем_производства__Extra_4</th>\n",
       "      <th>Объем_производства__Extra_5</th>\n",
       "      <th>Объем_производства__Extra_6</th>\n",
       "      <th>Объем_производства__Extra_7</th>\n",
       "    </tr>\n",
       "  </thead>\n",
       "  <tbody>\n",
       "    <tr>\n",
       "      <th>0</th>\n",
       "      <td>Абрамов Е. Д.</td>\n",
       "      <td>3</td>\n",
       "      <td>18</td>\n",
       "      <td>16638</td>\n",
       "      <td>0</td>\n",
       "      <td>0</td>\n",
       "      <td>0</td>\n",
       "      <td>0</td>\n",
       "      <td>0</td>\n",
       "      <td>0</td>\n",
       "      <td>...</td>\n",
       "      <td>1</td>\n",
       "      <td>0</td>\n",
       "      <td>1</td>\n",
       "      <td>0</td>\n",
       "      <td>0</td>\n",
       "      <td>0</td>\n",
       "      <td>0</td>\n",
       "      <td>0</td>\n",
       "      <td>0</td>\n",
       "      <td>0</td>\n",
       "    </tr>\n",
       "    <tr>\n",
       "      <th>1</th>\n",
       "      <td>Абрамов Е. Д.</td>\n",
       "      <td>3</td>\n",
       "      <td>18</td>\n",
       "      <td>16638</td>\n",
       "      <td>0</td>\n",
       "      <td>0</td>\n",
       "      <td>0</td>\n",
       "      <td>0</td>\n",
       "      <td>0</td>\n",
       "      <td>0</td>\n",
       "      <td>...</td>\n",
       "      <td>1</td>\n",
       "      <td>0</td>\n",
       "      <td>1</td>\n",
       "      <td>0</td>\n",
       "      <td>0</td>\n",
       "      <td>0</td>\n",
       "      <td>0</td>\n",
       "      <td>0</td>\n",
       "      <td>0</td>\n",
       "      <td>0</td>\n",
       "    </tr>\n",
       "    <tr>\n",
       "      <th>2</th>\n",
       "      <td>Абрамов Е. Д.</td>\n",
       "      <td>3</td>\n",
       "      <td>18</td>\n",
       "      <td>16638</td>\n",
       "      <td>0</td>\n",
       "      <td>0</td>\n",
       "      <td>0</td>\n",
       "      <td>0</td>\n",
       "      <td>0</td>\n",
       "      <td>0</td>\n",
       "      <td>...</td>\n",
       "      <td>1</td>\n",
       "      <td>0</td>\n",
       "      <td>1</td>\n",
       "      <td>0</td>\n",
       "      <td>0</td>\n",
       "      <td>0</td>\n",
       "      <td>0</td>\n",
       "      <td>0</td>\n",
       "      <td>0</td>\n",
       "      <td>0</td>\n",
       "    </tr>\n",
       "  </tbody>\n",
       "</table>\n",
       "<p>3 rows × 30 columns</p>\n",
       "</div>"
      ],
      "text/plain": [
       "             FIO  Разряд  Вредность (балл.)  Доход  Профессия__Вальцовщик  \\\n",
       "0  Абрамов Е. Д.       3                 18  16638                      0   \n",
       "1  Абрамов Е. Д.       3                 18  16638                      0   \n",
       "2  Абрамов Е. Д.       3                 18  16638                      0   \n",
       "\n",
       "   Профессия__Контролер качества готовой продукции  \\\n",
       "0                                                0   \n",
       "1                                                0   \n",
       "2                                                0   \n",
       "\n",
       "   Профессия__Нагревальщик металла  Профессия__Огнеупорщик  \\\n",
       "0                                0                       0   \n",
       "1                                0                       0   \n",
       "2                                0                       0   \n",
       "\n",
       "   Профессия__Оператор поста управления  Профессия__Подручный вальцовщика  \\\n",
       "0                                     0                                 0   \n",
       "1                                     0                                 0   \n",
       "2                                     0                                 0   \n",
       "\n",
       "   ...  Оборудование__Пилигримовые станы  Оборудование__Прошивной стан  \\\n",
       "0  ...                                 1                             0   \n",
       "1  ...                                 1                             0   \n",
       "2  ...                                 1                             0   \n",
       "\n",
       "   Объем_производства__Basic  Объем_производства__Extra_1  \\\n",
       "0                          1                            0   \n",
       "1                          1                            0   \n",
       "2                          1                            0   \n",
       "\n",
       "   Объем_производства__Extra_2  Объем_производства__Extra_3  \\\n",
       "0                            0                            0   \n",
       "1                            0                            0   \n",
       "2                            0                            0   \n",
       "\n",
       "   Объем_производства__Extra_4  Объем_производства__Extra_5  \\\n",
       "0                            0                            0   \n",
       "1                            0                            0   \n",
       "2                            0                            0   \n",
       "\n",
       "   Объем_производства__Extra_6  Объем_производства__Extra_7  \n",
       "0                            0                            0  \n",
       "1                            0                            0  \n",
       "2                            0                            0  \n",
       "\n",
       "[3 rows x 30 columns]"
      ]
     },
     "execution_count": 23,
     "metadata": {},
     "output_type": "execute_result"
    }
   ],
   "source": [
    "df = pd.concat([df, pd.get_dummies(df.Объем_производства, prefix='Объем_производства_')], axis=1, sort=False)  \n",
    "df = df.drop(['Объем_производства'], axis=1)\n",
    "df.head(3)"
   ]
  },
  {
   "cell_type": "markdown",
   "metadata": {},
   "source": [
    "Сначала преобразуем объем производства к строковому формату"
   ]
  },
  {
   "cell_type": "markdown",
   "metadata": {},
   "source": [
    "## Определяем формулу дохода сотрудников методом линейной регрессии"
   ]
  },
  {
   "cell_type": "code",
   "execution_count": 24,
   "metadata": {},
   "outputs": [],
   "source": [
    "from sklearn.model_selection import train_test_split"
   ]
  },
  {
   "cell_type": "code",
   "execution_count": 25,
   "metadata": {},
   "outputs": [],
   "source": [
    "from sklearn.linear_model import LinearRegression"
   ]
  },
  {
   "cell_type": "code",
   "execution_count": 26,
   "metadata": {},
   "outputs": [],
   "source": [
    "target_name = 'Доход'"
   ]
  },
  {
   "cell_type": "code",
   "execution_count": 27,
   "metadata": {},
   "outputs": [],
   "source": [
    "X = df.drop(['Доход', 'FIO'], axis=1)\n",
    "Y = df[target_name]"
   ]
  },
  {
   "cell_type": "code",
   "execution_count": 28,
   "metadata": {},
   "outputs": [],
   "source": [
    "X_train, X_test, Y_train, Y_test = train_test_split(X, Y, test_size=0.33, shuffle=True, random_state=21)"
   ]
  },
  {
   "cell_type": "code",
   "execution_count": 29,
   "metadata": {},
   "outputs": [
    {
     "name": "stdout",
     "output_type": "stream",
     "text": [
      "Строк в тренировочной выборке: 1608\n",
      "Строк в тестовой выборке: 792\n"
     ]
    }
   ],
   "source": [
    "print('Строк в тренировочной выборке:', X_train.shape[0])\n",
    "print('Строк в тестовой выборке:', X_test.shape[0])"
   ]
  },
  {
   "cell_type": "code",
   "execution_count": 30,
   "metadata": {},
   "outputs": [
    {
     "data": {
      "text/html": [
       "<div>\n",
       "<style scoped>\n",
       "    .dataframe tbody tr th:only-of-type {\n",
       "        vertical-align: middle;\n",
       "    }\n",
       "\n",
       "    .dataframe tbody tr th {\n",
       "        vertical-align: top;\n",
       "    }\n",
       "\n",
       "    .dataframe thead th {\n",
       "        text-align: right;\n",
       "    }\n",
       "</style>\n",
       "<table border=\"1\" class=\"dataframe\">\n",
       "  <thead>\n",
       "    <tr style=\"text-align: right;\">\n",
       "      <th></th>\n",
       "      <th>Разряд</th>\n",
       "      <th>Вредность (балл.)</th>\n",
       "      <th>Профессия__Вальцовщик</th>\n",
       "      <th>Профессия__Контролер качества готовой продукции</th>\n",
       "      <th>Профессия__Нагревальщик металла</th>\n",
       "      <th>Профессия__Огнеупорщик</th>\n",
       "      <th>Профессия__Оператор поста управления</th>\n",
       "      <th>Профессия__Подручный вальцовщика</th>\n",
       "      <th>Профессия__Посадчик металла</th>\n",
       "      <th>Профессия__Резчик горячего металла</th>\n",
       "      <th>...</th>\n",
       "      <th>Оборудование__Пилигримовые станы</th>\n",
       "      <th>Оборудование__Прошивной стан</th>\n",
       "      <th>Объем_производства__Basic</th>\n",
       "      <th>Объем_производства__Extra_1</th>\n",
       "      <th>Объем_производства__Extra_2</th>\n",
       "      <th>Объем_производства__Extra_3</th>\n",
       "      <th>Объем_производства__Extra_4</th>\n",
       "      <th>Объем_производства__Extra_5</th>\n",
       "      <th>Объем_производства__Extra_6</th>\n",
       "      <th>Объем_производства__Extra_7</th>\n",
       "    </tr>\n",
       "  </thead>\n",
       "  <tbody>\n",
       "    <tr>\n",
       "      <th>0</th>\n",
       "      <td>3</td>\n",
       "      <td>18</td>\n",
       "      <td>0</td>\n",
       "      <td>0</td>\n",
       "      <td>0</td>\n",
       "      <td>0</td>\n",
       "      <td>0</td>\n",
       "      <td>0</td>\n",
       "      <td>0</td>\n",
       "      <td>0</td>\n",
       "      <td>...</td>\n",
       "      <td>1</td>\n",
       "      <td>0</td>\n",
       "      <td>1</td>\n",
       "      <td>0</td>\n",
       "      <td>0</td>\n",
       "      <td>0</td>\n",
       "      <td>0</td>\n",
       "      <td>0</td>\n",
       "      <td>0</td>\n",
       "      <td>0</td>\n",
       "    </tr>\n",
       "    <tr>\n",
       "      <th>1</th>\n",
       "      <td>3</td>\n",
       "      <td>18</td>\n",
       "      <td>0</td>\n",
       "      <td>0</td>\n",
       "      <td>0</td>\n",
       "      <td>0</td>\n",
       "      <td>0</td>\n",
       "      <td>0</td>\n",
       "      <td>0</td>\n",
       "      <td>0</td>\n",
       "      <td>...</td>\n",
       "      <td>1</td>\n",
       "      <td>0</td>\n",
       "      <td>1</td>\n",
       "      <td>0</td>\n",
       "      <td>0</td>\n",
       "      <td>0</td>\n",
       "      <td>0</td>\n",
       "      <td>0</td>\n",
       "      <td>0</td>\n",
       "      <td>0</td>\n",
       "    </tr>\n",
       "    <tr>\n",
       "      <th>2</th>\n",
       "      <td>3</td>\n",
       "      <td>18</td>\n",
       "      <td>0</td>\n",
       "      <td>0</td>\n",
       "      <td>0</td>\n",
       "      <td>0</td>\n",
       "      <td>0</td>\n",
       "      <td>0</td>\n",
       "      <td>0</td>\n",
       "      <td>0</td>\n",
       "      <td>...</td>\n",
       "      <td>1</td>\n",
       "      <td>0</td>\n",
       "      <td>1</td>\n",
       "      <td>0</td>\n",
       "      <td>0</td>\n",
       "      <td>0</td>\n",
       "      <td>0</td>\n",
       "      <td>0</td>\n",
       "      <td>0</td>\n",
       "      <td>0</td>\n",
       "    </tr>\n",
       "    <tr>\n",
       "      <th>3</th>\n",
       "      <td>3</td>\n",
       "      <td>18</td>\n",
       "      <td>0</td>\n",
       "      <td>0</td>\n",
       "      <td>0</td>\n",
       "      <td>0</td>\n",
       "      <td>0</td>\n",
       "      <td>0</td>\n",
       "      <td>0</td>\n",
       "      <td>0</td>\n",
       "      <td>...</td>\n",
       "      <td>1</td>\n",
       "      <td>0</td>\n",
       "      <td>0</td>\n",
       "      <td>0</td>\n",
       "      <td>0</td>\n",
       "      <td>0</td>\n",
       "      <td>0</td>\n",
       "      <td>1</td>\n",
       "      <td>0</td>\n",
       "      <td>0</td>\n",
       "    </tr>\n",
       "    <tr>\n",
       "      <th>4</th>\n",
       "      <td>3</td>\n",
       "      <td>18</td>\n",
       "      <td>0</td>\n",
       "      <td>0</td>\n",
       "      <td>0</td>\n",
       "      <td>0</td>\n",
       "      <td>0</td>\n",
       "      <td>0</td>\n",
       "      <td>0</td>\n",
       "      <td>0</td>\n",
       "      <td>...</td>\n",
       "      <td>1</td>\n",
       "      <td>0</td>\n",
       "      <td>0</td>\n",
       "      <td>0</td>\n",
       "      <td>0</td>\n",
       "      <td>0</td>\n",
       "      <td>0</td>\n",
       "      <td>0</td>\n",
       "      <td>1</td>\n",
       "      <td>0</td>\n",
       "    </tr>\n",
       "  </tbody>\n",
       "</table>\n",
       "<p>5 rows × 28 columns</p>\n",
       "</div>"
      ],
      "text/plain": [
       "   Разряд  Вредность (балл.)  Профессия__Вальцовщик  \\\n",
       "0       3                 18                      0   \n",
       "1       3                 18                      0   \n",
       "2       3                 18                      0   \n",
       "3       3                 18                      0   \n",
       "4       3                 18                      0   \n",
       "\n",
       "   Профессия__Контролер качества готовой продукции  \\\n",
       "0                                                0   \n",
       "1                                                0   \n",
       "2                                                0   \n",
       "3                                                0   \n",
       "4                                                0   \n",
       "\n",
       "   Профессия__Нагревальщик металла  Профессия__Огнеупорщик  \\\n",
       "0                                0                       0   \n",
       "1                                0                       0   \n",
       "2                                0                       0   \n",
       "3                                0                       0   \n",
       "4                                0                       0   \n",
       "\n",
       "   Профессия__Оператор поста управления  Профессия__Подручный вальцовщика  \\\n",
       "0                                     0                                 0   \n",
       "1                                     0                                 0   \n",
       "2                                     0                                 0   \n",
       "3                                     0                                 0   \n",
       "4                                     0                                 0   \n",
       "\n",
       "   Профессия__Посадчик металла  Профессия__Резчик горячего металла  ...  \\\n",
       "0                            0                                   0  ...   \n",
       "1                            0                                   0  ...   \n",
       "2                            0                                   0  ...   \n",
       "3                            0                                   0  ...   \n",
       "4                            0                                   0  ...   \n",
       "\n",
       "   Оборудование__Пилигримовые станы  Оборудование__Прошивной стан  \\\n",
       "0                                 1                             0   \n",
       "1                                 1                             0   \n",
       "2                                 1                             0   \n",
       "3                                 1                             0   \n",
       "4                                 1                             0   \n",
       "\n",
       "   Объем_производства__Basic  Объем_производства__Extra_1  \\\n",
       "0                          1                            0   \n",
       "1                          1                            0   \n",
       "2                          1                            0   \n",
       "3                          0                            0   \n",
       "4                          0                            0   \n",
       "\n",
       "   Объем_производства__Extra_2  Объем_производства__Extra_3  \\\n",
       "0                            0                            0   \n",
       "1                            0                            0   \n",
       "2                            0                            0   \n",
       "3                            0                            0   \n",
       "4                            0                            0   \n",
       "\n",
       "   Объем_производства__Extra_4  Объем_производства__Extra_5  \\\n",
       "0                            0                            0   \n",
       "1                            0                            0   \n",
       "2                            0                            0   \n",
       "3                            0                            1   \n",
       "4                            0                            0   \n",
       "\n",
       "   Объем_производства__Extra_6  Объем_производства__Extra_7  \n",
       "0                            0                            0  \n",
       "1                            0                            0  \n",
       "2                            0                            0  \n",
       "3                            0                            0  \n",
       "4                            1                            0  \n",
       "\n",
       "[5 rows x 28 columns]"
      ]
     },
     "execution_count": 30,
     "metadata": {},
     "output_type": "execute_result"
    }
   ],
   "source": [
    "X.head()"
   ]
  },
  {
   "cell_type": "code",
   "execution_count": 31,
   "metadata": {},
   "outputs": [],
   "source": [
    "lr = LinearRegression()"
   ]
  },
  {
   "cell_type": "code",
   "execution_count": 32,
   "metadata": {
    "scrolled": true
   },
   "outputs": [
    {
     "data": {
      "text/plain": [
       "LinearRegression()"
      ]
     },
     "execution_count": 32,
     "metadata": {},
     "output_type": "execute_result"
    }
   ],
   "source": [
    "lr.fit(X_train, Y_train)"
   ]
  },
  {
   "cell_type": "code",
   "execution_count": 33,
   "metadata": {},
   "outputs": [],
   "source": [
    "def model_test(model, name, test, valid):\n",
    "    model_pred = model.predict(test)\n",
    "    r2 = r2_score(valid, model_pred)\n",
    "    mse = mean_squared_error(valid, model_pred)\n",
    "    plt.scatter(valid, (model_pred - valid))\n",
    "    plt.xlabel(\"Predicted values\")\n",
    "    plt.ylabel(\"Real values\")\n",
    "    plt.title(name)\n",
    "    plt.legend([f'R2= {r2:.4f} and mse= {mse:.0e}'])\n",
    "    plt.axhline(0, color='red')\n",
    "    plt.show()"
   ]
  },
  {
   "cell_type": "code",
   "execution_count": 34,
   "metadata": {},
   "outputs": [],
   "source": [
    "from sklearn.metrics import r2_score"
   ]
  },
  {
   "cell_type": "code",
   "execution_count": 35,
   "metadata": {},
   "outputs": [],
   "source": [
    "from sklearn.metrics import mean_squared_error"
   ]
  },
  {
   "cell_type": "code",
   "execution_count": 36,
   "metadata": {},
   "outputs": [
    {
     "data": {
      "image/png": "[encoded data removed]",
      "text/plain": [
       "<Figure size 432x288 with 1 Axes>"
      ]
     },
     "metadata": {
      "needs_background": "light"
     },
     "output_type": "display_data"
    }
   ],
   "source": [
    "model_test(lr, 'Linear Regression', X_test, Y_test)"
   ]
  },
  {
   "cell_type": "code",
   "execution_count": 37,
   "metadata": {
    "scrolled": true
   },
   "outputs": [
    {
     "name": "stdout",
     "output_type": "stream",
     "text": [
      "0.9731433745864841\n"
     ]
    }
   ],
   "source": [
    "r2 = r2_score(Y_test, lr.predict(X_test))\n",
    "print(r2)"
   ]
  },
  {
   "cell_type": "markdown",
   "metadata": {},
   "source": [
    " !!! Вывод: точность модели недостаточная!!!"
   ]
  },
  {
   "cell_type": "markdown",
   "metadata": {},
   "source": [
    "Смотрим расчетные коэффициенты линейной регрессии."
   ]
  },
  {
   "cell_type": "code",
   "execution_count": 38,
   "metadata": {},
   "outputs": [
    {
     "data": {
      "text/plain": [
       "array([ 3.01420685e+03, -3.83091090e+14,  3.76410764e+14,  1.39651900e+14,\n",
       "        6.03163829e+15,  1.81763630e+15, -3.45450014e+15,  3.76410764e+14,\n",
       "        6.03163829e+15, -3.89771416e+14,  3.76410764e+14, -5.57974944e+14,\n",
       "        6.33766468e+15,  6.33766468e+15, -3.21216081e+14,  2.21480151e+15,\n",
       "        2.21480151e+15,  2.21480151e+15,  6.33766468e+15,  6.33766468e+15,\n",
       "       -2.95541916e+14, -2.95541916e+14, -2.95541916e+14, -2.95541916e+14,\n",
       "       -2.95541916e+14, -2.95541916e+14, -2.95541916e+14, -2.95541916e+14])"
      ]
     },
     "execution_count": 38,
     "metadata": {},
     "output_type": "execute_result"
    }
   ],
   "source": [
    "lr.coef_"
   ]
  },
  {
   "cell_type": "code",
   "execution_count": 39,
   "metadata": {
    "scrolled": true
   },
   "outputs": [
    {
     "data": {
      "text/plain": [
       "28"
      ]
     },
     "execution_count": 39,
     "metadata": {},
     "output_type": "execute_result"
    }
   ],
   "source": [
    "len(lr.coef_)"
   ]
  }
 ],
 "metadata": {
  "kernelspec": {
   "display_name": "Python 3",
   "language": "python",
   "name": "python3"
  },
  "language_info": {
   "codemirror_mode": {
    "name": "ipython",
    "version": 3
   },
   "file_extension": ".py",
   "mimetype": "text/x-python",
   "name": "python",
   "nbconvert_exporter": "python",
   "pygments_lexer": "ipython3",
   "version": "3.8.5"
  }
 },
 "nbformat": 4,
 "nbformat_minor": 4
}
